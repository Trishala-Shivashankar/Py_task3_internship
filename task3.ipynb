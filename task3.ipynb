{
 "cells": [
  {
   "cell_type": "code",
   "execution_count": 1,
   "id": "c0dd68fc-c0f4-47d2-ad13-32243dc9f085",
   "metadata": {},
   "outputs": [
    {
     "name": "stdout",
     "output_type": "stream",
     "text": [
      "Requirement already satisfied: requests in c:\\users\\ushas\\anaconda3\\lib\\site-packages (2.31.0)\n",
      "Requirement already satisfied: beautifulsoup4 in c:\\users\\ushas\\anaconda3\\lib\\site-packages (4.12.2)\n",
      "Requirement already satisfied: charset-normalizer<4,>=2 in c:\\users\\ushas\\anaconda3\\lib\\site-packages (from requests) (2.0.4)\n",
      "Requirement already satisfied: idna<4,>=2.5 in c:\\users\\ushas\\anaconda3\\lib\\site-packages (from requests) (3.4)\n",
      "Requirement already satisfied: urllib3<3,>=1.21.1 in c:\\users\\ushas\\anaconda3\\lib\\site-packages (from requests) (2.0.7)\n",
      "Requirement already satisfied: certifi>=2017.4.17 in c:\\users\\ushas\\anaconda3\\lib\\site-packages (from requests) (2024.6.2)\n",
      "Requirement already satisfied: soupsieve>1.2 in c:\\users\\ushas\\anaconda3\\lib\\site-packages (from beautifulsoup4) (2.5)\n"
     ]
    }
   ],
   "source": [
    "!pip install requests beautifulsoup4"
   ]
  },
  {
   "cell_type": "code",
   "execution_count": 3,
   "id": "3a6b651e-ad70-4e16-a176-e0c24423f2c9",
   "metadata": {},
   "outputs": [],
   "source": [
    "import requests\n",
    "from bs4 import BeautifulSoup"
   ]
  },
  {
   "cell_type": "code",
   "execution_count": 5,
   "id": "a185bef1-2326-4456-a197-29bc4667886e",
   "metadata": {},
   "outputs": [],
   "source": [
    "url = \"https://www.bbc.com/news\"\n",
    "\n",
    "response = requests.get(url)\n",
    "\n",
    "if response.status_code == 200:\n",
    "    soup = BeautifulSoup(response.text, 'html.parser')\n",
    "else:\n",
    "    print(f\"Failed to retrieve page. Status code: {response.status_code}\")"
   ]
  },
  {
   "cell_type": "code",
   "execution_count": 7,
   "id": "3c473a59-86ab-4d51-8f2a-f6b1567e00d3",
   "metadata": {},
   "outputs": [
    {
     "data": {
      "text/plain": [
       "['Germany to stop arms sales to Israel that could be used in Gaza after takeover plan approved',\n",
       " 'Netanyahu divides Israelis and allies with plan for new military push in Gaza',\n",
       " 'Mapping Israeli control in Gaza and analysing UK asylum claims',\n",
       " \"New signs found of giant gas planet in 'Earth's neighbourhood'\",\n",
       " \"OpenAI beats Elon Musk's Grok in AI chess tournament\",\n",
       " 'Netanyahu divides Israelis and allies with plan for new military push in Gaza',\n",
       " 'Mushroom murderer tried to kill husband with pasta, cookies and curry, court was told',\n",
       " 'Is Perrier as pure as it claims? The bottled water scandal gripping France',\n",
       " 'Eleven domestic workers arrested over illegal abortions in Hong Kong',\n",
       " 'Mapping Israeli control in Gaza and analysing UK asylum claims']"
      ]
     },
     "execution_count": 7,
     "metadata": {},
     "output_type": "execute_result"
    }
   ],
   "source": [
    "headlines = soup.find_all('h2')\n",
    "\n",
    "headline_list = [h.get_text(strip=True) for h in headlines if h.get_text(strip=True)]\n",
    "\n",
    "headline_list[:10]\n"
   ]
  },
  {
   "cell_type": "code",
   "execution_count": 9,
   "id": "b12971eb-948b-444c-a56c-ee0fa85068b5",
   "metadata": {},
   "outputs": [
    {
     "name": "stdout",
     "output_type": "stream",
     "text": [
      "Headlines saved to headlines.txt\n"
     ]
    }
   ],
   "source": [
    "output_file = \"headlines.txt\"\n",
    "\n",
    "with open(output_file, \"w\", encoding=\"utf-8\") as file:\n",
    "    for idx, headline in enumerate(headline_list, start=1):\n",
    "        file.write(f\"{idx}. {headline}\\n\")\n",
    "\n",
    "print(f\"Headlines saved to {output_file}\")\n"
   ]
  },
  {
   "cell_type": "code",
   "execution_count": 11,
   "id": "fe3be7e2-eaf8-4cc5-bf74-487119d08b28",
   "metadata": {},
   "outputs": [
    {
     "name": "stdout",
     "output_type": "stream",
     "text": [
      "1. Germany to stop arms sales to Israel that could be used in Gaza after takeover plan approved\n",
      "2. Netanyahu divides Israelis and allies with plan for new military push in Gaza\n",
      "3. Mapping Israeli control in Gaza and analysing UK asylum claims\n",
      "4. New signs found of giant gas planet in 'Earth's neighbourhood'\n",
      "5. OpenAI beats Elon Musk's Grok in AI chess tournament\n",
      "6. Netanyahu divides Israelis and allies with plan for new military push in Gaza\n",
      "7. Mushroom murderer tried to kill husband with pasta, cookies and curry, court was told\n",
      "8. Is Perrier as pure as it claims? The bottled water scandal gripping France\n",
      "9. Eleven domestic workers arrested over illegal abortions in Hong Kong\n",
      "10. Mapping Israeli control in Gaza and analysing UK asylum claims\n",
      "11. Heartbreaking search for missing children after India flash floods\n",
      "12. Crocs US sales tumble as shoppers choose trainers\n",
      "13. Mandalorian actress Gina Carano settles lawsuit with Disney over firing\n",
      "14. Cacio e pepe: Good Food pasta recipe sparks fury in Italy\n",
      "15. Southern European butterfly spotted in UK for first time\n",
      "16. Israel's Gaza City takeover plan\n",
      "17. Israel's plan means more misery for Palestinians and big risk for Netanyahu\n",
      "18. 'It's become a game for Israel': Gaza City residents fear takeover plans\n",
      "19. Taking control means abandoning hostages, families say\n",
      "20. US is at odds with Nato allies as it shrugs off Israel's escalation\n",
      "21. What we know so far about what Israel wants to do\n",
      "22. More to explore\n",
      "23. India's immigration raids send ripples through slums and skyscrapers alike\n",
      "24. Who is most likely to challenge Liverpool this season?\n",
      "25. Why Trump-Putin talks unlikely to bring rapid end to Ukraine war\n",
      "26. Weekly quiz: Which baby names took top spot?\n",
      "27. How the world's oldest leader could remain in power until he is nearly 100\n",
      "28. Who is most likely to challenge Liverpool this season?\n",
      "29. How the world's oldest leader could remain in power until he is nearly 100\n",
      "30. Most watched\n",
      "31. Heartbreaking search for missing children after India flash floods\n",
      "32. Watch: See where China plans to put its controversial mega-embassy\n",
      "33. 'I loved them' - Police interview Australian mushroom murderer\n",
      "34. Watch: Tiny dog chases bear out of its Vancouver home\n",
      "35. NHL mascot Buoy chased by bear in Alaska\n",
      "36. Also in news\n",
      "37. Ghana investigators find 'black boxes' of helicopter that crashed and killed two ministers\n",
      "38. US offers $50m reward for arrest of Venezuelan leader Nicolás Maduro\n",
      "39. Watch: See where China plans to put its controversial London mega-embassy\n",
      "40. Daily weight loss pill could help patients lose 12% of body weight\n",
      "41. Convicted rapist quits Australian parliament after losing legal bid to stay\n",
      "42. US offers $50m reward for arrest of Venezuelan leader Nicolás Maduro\n",
      "43. Ex-Superman actor says he's becoming US immigration enforcement agent\n",
      "44. France still battling largest wildfire in 75 years\n",
      "45. Watch: See where China plans to put its controversial London mega-embassy\n",
      "46. Most read\n",
      "47. Is Perrier as pure as it claims? The bottled water scandal gripping France\n",
      "48. Mushroom murderer tried to kill husband with pasta, cookies and curry, court was told\n",
      "49. OpenAI beats Elon Musk's Grok in AI chess tournament\n",
      "50. New signs found of giant gas planet in 'Earth's neighbourhood'\n",
      "51. US offers $50m reward for arrest of Venezuelan leader Nicolás Maduro\n",
      "52. US shrugs off Gaza escalation - drifting further away from allies\n",
      "53. Crocs US sales tumble as shoppers choose trainers\n",
      "54. Mandalorian actress settles lawsuit with Disney over firing\n",
      "55. Boy, 15, found guilty of murdering fellow pupil\n",
      "56. India has 20 days to avoid 50% Trump tariffs - what are its options?\n",
      "57. Sport\n",
      "58. Transfer news: Sesko and Garnacho latest plus Nwaneri signs new deal\n",
      "59. Villa complete £30m signing of Nice striker Guessand\n",
      "60. The Hundred: Rockets take three quick wickets against Phoenix\n",
      "61. Gazza, family ties & a kiss from Clough - why we love our clubs\n",
      "62. £201m of new forwards - now Man Utd look to solve midfield issue\n",
      "63. Villa complete £30m signing of Nice striker Guessand\n",
      "64. Who is most likely to challenge Liverpool this season?\n",
      "65. 'Allez Vicky' - Mboko emerges as tennis' new star\n",
      "66. The Hundred: Rockets take three quick wickets against Phoenix\n",
      "67. Follow BBC on:\n"
     ]
    }
   ],
   "source": [
    "for idx, headline in enumerate(headline_list, start=1):\n",
    "    print(f\"{idx}. {headline}\")"
   ]
  },
  {
   "cell_type": "code",
   "execution_count": null,
   "id": "1eb33ebb-6e7a-4d9d-b3f6-0745ff35a24c",
   "metadata": {},
   "outputs": [],
   "source": []
  }
 ],
 "metadata": {
  "kernelspec": {
   "display_name": "Python 3 (ipykernel)",
   "language": "python",
   "name": "python3"
  },
  "language_info": {
   "codemirror_mode": {
    "name": "ipython",
    "version": 3
   },
   "file_extension": ".py",
   "mimetype": "text/x-python",
   "name": "python",
   "nbconvert_exporter": "python",
   "pygments_lexer": "ipython3",
   "version": "3.11.7"
  }
 },
 "nbformat": 4,
 "nbformat_minor": 5
}
